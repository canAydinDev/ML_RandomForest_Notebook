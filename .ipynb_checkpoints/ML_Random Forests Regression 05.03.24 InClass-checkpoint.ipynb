{
 "cells": [
  {
   "cell_type": "markdown",
   "id": "developing-assignment",
   "metadata": {},
   "source": [
    "# <p style=\"background-color:green;font-family:newtimeroman;font-size:200%;color:white;text-align:center;border-radius:20px 20px;\"><b>Random Forest - Regression</b></p>\n",
    "![](https://www.techproeducation.com/logo/headerlogo.svg)\n",
    "\n",
    "<b>Yeniliklerden ilk siz haberdar olmak istiyorsanız lütfen bizi takip etmeyi unutmayın </b>[YouTube](https://www.youtube.com/c/techproeducation) | [Instagram](https://www.instagram.com/techproeducation) | [Facebook](https://www.facebook.com/techproeducation) | [Telegram](https://t.me/joinchat/HH2qRvA-ulh4OWbb) | [WhatsApp](https://api.whatsapp.com/send/?phone=%2B15853042959&text&type=phone_number&app_absent=0) | [LinkedIn](https://www.linkedin.com/company/techproeducation/mycompany/) |"
   ]
  },
  {
   "cell_type": "markdown",
   "id": "3c96db5c",
   "metadata": {},
   "source": [
    "Random Forests, hem sınıflandırma (classification) hem de regresyon (regression) problemleri için kullanılabilen esnek bir makine öğrenimi yöntemidir. Her iki kullanım arasındaki temel farklar şu şekildedir:\n",
    "\n",
    "**Random Forests Sınıflandırma (Classification)**\n",
    "* **Amaç**: Veri setindeki örnekleri belirli kategorilere sınıflandırmak.\n",
    "* **Çıktı Tipi**: Discrete  label (örneğin, 'kedi', 'köpek', 'kuş' gibi).\n",
    "* **Karar Süreci**: Her karar ağacı bir sınıf etiketi tahmini yapar, ve tüm ağaçların tahminleri arasından en çok oy alan sınıf nihai tahmin olarak seçilir (çoğunluk oyu yöntemi).\n",
    "* **Performans Değerlendirmesi**: Doğruluk oranı, karışıklık matrisi, hatırlama, hassasiyet, F1 skoru gibi sınıflandırma metrikleri ile değerlendirilir.\n",
    "* **Uygulama Örneği**: E-postaları 'spam' veya 'spam değil' olarak sınıflandırmak.\n",
    "**Random Forests Regresyon (Regression)**\n",
    "* **Amaç**: Sürekli bir çıktıyı (sayısal değer) tahmin etmek.\n",
    "* **Çıktı Tipi**: Continuous sayısal değerler (örneğin, bir evin fiyatı, sıcaklık değeri gibi).\n",
    "* **Karar Süreci**: Her karar ağacı bir sayısal değer tahmini yapar, ve tüm ağaçların tahminlerinin ortalaması (veya bazen medyanı) nihai tahmin olarak kullanılır.\n",
    "* **Performans Değerlendirmesi**: Ortalama Karesel Hata (MSE), Ortalama Mutlak Hata (MAE), R-kare gibi regresyon metrikleri ile değerlendirilir.\n",
    "* **Uygulama Örneği**: Bir evin satış fiyatını tahmin etmek.\n",
    "\n",
    "Her iki durumda da, Random Forests yöntemi birden fazla karar ağacını kullanır ve bu ağaçların tahminlerini birleştirir. Ancak, sınıflandırma ve regresyon arasındaki temel fark, tahmin edilen çıktı türü ve bu tahminlerin nasıl birleştirildiğidir. Sınıflandırmada, sonuçlar kategori etiketleridir ve çoğunluk oyu ile belirlenirken, regresyonda sonuçlar sürekli sayısal değerlerdir ve genellikle ortalama veya medyan alınarak elde edilir."
   ]
  },
  {
   "cell_type": "markdown",
   "id": "25105b2b",
   "metadata": {},
   "source": [
    "# Exploratory Data Analysis (EDA)"
   ]
  },
  {
   "cell_type": "markdown",
   "id": "65f83bd0",
   "metadata": {},
   "source": [
    "**About Dataset**\n",
    "\n",
    "- **Car_Name**: Arabanın adı veya modeli.\n",
    "- **Year**: Arabanın üretim yılı.\n",
    "- **Selling_Price**: Arabanın satış fiyatı.\n",
    "- **Present_Price**: Arabanın şu anki showroom fiyatı.\n",
    "- **Kms_Driven**: Satış noktasına kadar arabayla gidilen toplam kilometre.\n",
    "- **Fuel_Type**: Arabanın kullandığı yakıt tipi.\n",
    "  - **Petrol**: Benzinle çalışan araçları ifade eder.\n",
    "  - **Diesel**: Dizel yakıtla çalışan araçları belirtir.\n",
    "  - **CNG**: Sıkıştırılmış doğal gazla (CNG) çalışan araçları tanımlar.\n",
    "- **Seller_Type**: Arabayı satan satıcı tipi.\n",
    "  - **Dealer**: Ticari operasyonlarının bir parçası olarak araç satan işletmeleri ifade eder.\n",
    "  - **Individual**: Kişisel bir aracını satan özel bireyleri belirtir.\n",
    "- **Transmission**: Arabanın sahip olduğu şanzıman tipi.\n",
    "  - **Manual**: Sürücünün manuel olarak vites değiştirdiği araçları tanımlar.\n",
    "  - **Automatic**: Vites değiştirme işleminin otomatikleştirildiği araçları ifade eder.\n",
    "- **Owner**: Arabanın önceki sahiplerinin sayısı.\n",
    "  - **First Owner**: Aracın orijinal sahibi tarafından satıldığını gösterir.\n",
    "  - **Second Owner**: Aracın mevcut satıcıdan önce bir önceki sahibi olduğunu belirtir.\n",
    "  - **Third Owner**, ve böyle devam eder.\n",
    "\n",
    "Bu veri seti, bir arabanın özelliklerine dayalı olarak satış fiyatının tahmin edilmesi içindir.\n",
    "\n",
    "-------------------------------------------------------------------------------------------------------------------------------\n",
    "\n",
    "- **Car_Name**: The name or model of the car.\n",
    "- **Year**: The year of manufacture of the car.\n",
    "- **Selling_Price**: The selling price of the car.\n",
    "- **Present_Price**: The current showroom price of the car.\n",
    "- **Kms_Driven**: The total kilometers driven by the car up to the point of sale.\n",
    "- **Fuel_Type**: This column would contain categories such as:\n",
    "  - **Petrol**: Cars that run on petrol fuel.\n",
    "  - **Diesel**: Cars that use diesel fuel.\n",
    "  - **CNG**: Cars that are powered by compressed natural gas.\n",
    "\n",
    "- **Seller_Type**: This column would indicate the type of seller offering the car, which could be:\n",
    "  - **Dealer**: A business that sells cars as part of its commercial operations.\n",
    "  - **Individual**: A private individual selling a personal vehicle.\n",
    "\n",
    "- **Transmission**: This refers to the gearbox system of the car, with common types being:\n",
    "  - **Manual**: Cars where the driver manually shifts gears.\n",
    "  - **Automatic**: Cars where the gear shifting process is automated.\n",
    "\n",
    "- **Owner**: This would typically be a numeric column indicating the number of previous owners of the car, but if it is categorical, it might have entries such as:\n",
    "  - **First Owner**: Indicates the car is being sold by its original owner.\n",
    "  - **Second Owner**: Indicates the car has had one previous owner before the current seller.\n",
    "  - **Third Owner**, and so on.\n",
    "  \n",
    "This data set is for estimating the selling price of a car based on its features."
   ]
  },
  {
   "cell_type": "code",
   "execution_count": 1,
   "id": "threaded-frank",
   "metadata": {
    "ExecuteTime": {
     "end_time": "2024-03-07T18:10:48.073027Z",
     "start_time": "2024-03-07T18:10:45.559663Z"
    }
   },
   "outputs": [],
   "source": [
    "import pandas as pd\n",
    "import numpy as np\n",
    "import matplotlib.pyplot as plt\n",
    "import seaborn as sns\n",
    "plt.rcParams[\"figure.figsize\"] = (9,5)\n",
    "import warnings\n",
    "warnings.filterwarnings('ignore')\n",
    "pd.set_option('display.max_rows', 1000)\n",
    "pd.set_option('display.max_columns', 1000)\n",
    "pd.set_option('display.width', 1000)\n",
    "pd.set_option('display.float_format', lambda x: '%.3f' % x)"
   ]
  },
  {
   "cell_type": "code",
   "execution_count": 2,
   "id": "resident-berkeley",
   "metadata": {
    "ExecuteTime": {
     "end_time": "2024-03-07T18:10:50.525675Z",
     "start_time": "2024-03-07T18:10:48.076036Z"
    }
   },
   "outputs": [],
   "source": [
    "df0 = pd.read_csv(\"car_dataset.csv\")\n",
    "df = df0.copy()"
   ]
  },
  {
   "cell_type": "code",
   "execution_count": null,
   "id": "ede9ec7c",
   "metadata": {
    "ExecuteTime": {
     "end_time": "2024-03-07T18:10:50.534223Z",
     "start_time": "2024-03-07T18:10:50.534223Z"
    }
   },
   "outputs": [],
   "source": [
    "df.head()"
   ]
  },
  {
   "cell_type": "code",
   "execution_count": null,
   "id": "improved-destruction",
   "metadata": {
    "ExecuteTime": {
     "end_time": "2024-03-07T18:10:50.538276Z",
     "start_time": "2024-03-07T18:10:50.538276Z"
    }
   },
   "outputs": [],
   "source": [
    "df.shape"
   ]
  },
  {
   "cell_type": "code",
   "execution_count": null,
   "id": "available-berkeley",
   "metadata": {
    "ExecuteTime": {
     "end_time": "2024-03-07T18:10:50.540275Z",
     "start_time": "2024-03-07T18:10:50.540275Z"
    }
   },
   "outputs": [],
   "source": [
    "df.info()"
   ]
  },
  {
   "cell_type": "code",
   "execution_count": null,
   "id": "extended-maximum",
   "metadata": {
    "ExecuteTime": {
     "end_time": "2024-03-07T18:10:50.543806Z",
     "start_time": "2024-03-07T18:10:50.543806Z"
    },
    "scrolled": true
   },
   "outputs": [],
   "source": [
    "df.isnull().sum()"
   ]
  },
  {
   "cell_type": "markdown",
   "id": "e3c292d9",
   "metadata": {},
   "source": [
    "**Random Forest ile Aykırı Değerlerin İşlenmesi**\n",
    "\n",
    "Random Forest, veri setlerindeki aykırı değerlere (outliers) karşı doğal bir dayanıklılık gösterir. Bu özelliği, karar ağaçları tabanlı bir ensemble (toplu) model olmasından kaynaklanır.\n",
    "\n",
    "**Random Forest ve Aykırı Değerler**\n",
    "- **Doğal Dayanıklılık**: Random Forest, her bir karar ağacını veri setinin rastgele bir alt kümesinden öğrenir. Bu, modelin aykırı değerlerden etkilenme riskini azaltır.\n",
    "- **Sonuçların Belirlenme Yöntemi**: Model sonuçları, birden fazla ağacın ortalaması veya çoğunluk oyu ile belirlenir. Bu yaklaşım, tek bir aykırı değerin model üzerinde aşırı bir etki yapmasını önler.\n",
    "- **Aykırı Değerlerin Gerçekliği**: Bazı durumlarda, aykırı değerler veri setinin gerçek bir parçasıdır ve önemli bilgiler içerebilir. Random Forest, bu tür gerçek aykırı değerleri dikkate alarak modeli eğitebilir.\n",
    "\n",
    "**Uygulama Önerileri**\n",
    "- **Aykırı Değerleri Dikkate Alma**: Random Forest kullanırken, aykırı değerlerin modelleme sürecinde otomatik olarak yönetildiğini göz önünde bulundurun.\n",
    "- **Veri Ön İşleme**: Aykırı değerlerin varlığı, modelin doğruluğunu etkileyebilir. Gerekli durumlarda, veri ön işleme adımlarıyla bu değerlerin etkisini azaltabilirsiniz.\n",
    "- **Model Değerlendirme**: Modeli değerlendirirken, aykırı değerlerin modelin genel performansına etkisini gözlemleyin.\n",
    "\n",
    "Sonuç olarak, Random Forest modeli, aykırı değerlere karşı dayanıklı bir yapıya sahiptir ve bu değerlerin model üzerindeki etkisini doğal yollarla azaltabilir. Bu özellik, modelin çeşitli veri setlerinde etkili bir şekilde kullanılmasını sağlar."
   ]
  },
  {
   "cell_type": "code",
   "execution_count": null,
   "id": "iraqi-invitation",
   "metadata": {
    "ExecuteTime": {
     "end_time": "2024-03-07T18:10:50.548156Z",
     "start_time": "2024-03-07T18:10:50.548156Z"
    }
   },
   "outputs": [],
   "source": [
    "df.describe().T"
   ]
  },
  {
   "cell_type": "code",
   "execution_count": null,
   "id": "similar-metabolism",
   "metadata": {
    "ExecuteTime": {
     "end_time": "2024-03-07T18:10:50.551564Z",
     "start_time": "2024-03-07T18:10:50.551564Z"
    }
   },
   "outputs": [],
   "source": [
    "sns.heatmap(df.corr(), annot=True, cmap=\"coolwarm\")\n",
    "plt.show()"
   ]
  },
  {
   "cell_type": "code",
   "execution_count": null,
   "id": "14be17bc",
   "metadata": {
    "ExecuteTime": {
     "end_time": "2024-03-07T18:10:50.556097Z",
     "start_time": "2024-03-07T18:10:50.556097Z"
    }
   },
   "outputs": [],
   "source": [
    "import plotly.graph_objects as go\n",
    "\n",
    "numeric_df = df.select_dtypes(include='number')\n",
    "corr_matrix = numeric_df.corr()\n",
    "\n",
    "heatmap = go.Heatmap(\n",
    "    z=corr_matrix.values,\n",
    "    x=corr_matrix.columns,\n",
    "    y=corr_matrix.index,\n",
    "    colorscale='Magma',  # Renk skalası\n",
    "    zmin=-1,\n",
    "    zmax=1,  # Renk skalası için minimum ve maksimum değerler\n",
    ")\n",
    "\n",
    "fig = go.Figure(data=[heatmap])\n",
    "\n",
    "fig.update_layout(\n",
    "    title='Korelasyon Matrisi Heatmap',\n",
    "    width=700,  \n",
    "    height=500,  \n",
    ")\n",
    "\n",
    "fig.show()"
   ]
  },
  {
   "cell_type": "code",
   "execution_count": null,
   "id": "attached-university",
   "metadata": {
    "ExecuteTime": {
     "end_time": "2024-03-07T18:10:50.559097Z",
     "start_time": "2024-03-07T18:10:50.559097Z"
    }
   },
   "outputs": [],
   "source": [
    "df[\"Vehicle_Age\"] = 2024 - df.Year\n",
    "\n",
    "# Datamızdaki araç üretim yılını age featurune dönüştürüyoruz."
   ]
  },
  {
   "cell_type": "markdown",
   "id": "bce3b428",
   "metadata": {},
   "source": [
    "**Yüksek Kartinaliteli (Çok Fazla Benzersiz Değer İçeren) Özelliklerin İşlenmesi**\n",
    "\n",
    "Veri setlerinde bazen çok fazla benzersiz değer içeren özellikler (high cardinality features) bulunabilir. Bu tür özelliklerin model üzerindeki etkisini değerlendirmek ve ona göre karar vermek önemlidir.\n",
    "\n",
    "**Yüksek Kartinaliteli Özelliklerin Değerlendirilmesi**\n",
    "1. **Özelliklerin Etkisi**: Bazı durumlarda, çok sayıda benzersiz değere sahip özellikler, modelin performansını olumlu veya olumsuz etkileyebilir.\n",
    "2. **Skor Karşılaştırması**: Modelin bu özelliği içerip içermemesine bağlı olarak performansını karşılaştırmak, özelliğin önemini belirlemeye yardımcı olabilir.\n",
    "\n",
    "**Uygulama Adımları**\n",
    "- **Özelliği Düşürmeden Modelleme**: İlk olarak, özelliği modellemeye dahil ederek modelin performansını değerlendirin.\n",
    "- **Özelliği Düşürerek Modelleme**: Daha sonra, aynı modeli bu özelliği düşürerek tekrar değerlendirin.\n",
    "- **Sonuçların Karşılaştırılması**: Her iki durumda elde edilen skorları karşılaştırın. Hangi durumda daha iyi sonuçlar elde edildiyse, o yaklaşımı tercih edin."
   ]
  },
  {
   "cell_type": "code",
   "execution_count": null,
   "id": "invisible-partnership",
   "metadata": {
    "ExecuteTime": {
     "end_time": "2024-03-07T18:10:50.563664Z",
     "start_time": "2024-03-07T18:10:50.563664Z"
    },
    "scrolled": true
   },
   "outputs": [],
   "source": [
    "def unique_values(df, columns):\n",
    "    \"\"\"Prints unique values and their counts for specific columns in the DataFrame.\"\"\"\n",
    "\n",
    "    for column_name in columns:\n",
    "        print(f\"Column: {column_name}\\n{'-'*30}\")\n",
    "        unique_vals = df[column_name].unique()\n",
    "        value_counts = df[column_name].value_counts()\n",
    "        print(f\"Unique Values ({len(unique_vals)}): {unique_vals}\\n\")\n",
    "        print(f\"Value Counts:\\n{value_counts}\\n{'='*40}\\n\")"
   ]
  },
  {
   "cell_type": "code",
   "execution_count": null,
   "id": "b2b21656",
   "metadata": {
    "ExecuteTime": {
     "end_time": "2024-03-07T18:10:50.566691Z",
     "start_time": "2024-03-07T18:10:50.566691Z"
    }
   },
   "outputs": [],
   "source": [
    "cat_features = df.select_dtypes(include='object').columns\n",
    "unique_values(df, cat_features)\n",
    "\n",
    "# kategorik featurların kaç unique gözlemden oluştuğu görüyoruz\n",
    "# car_name'in unique kategorik gözlem sayısı datamızdaki toplam gözlem sayısına nazaran çok yüksek"
   ]
  },
  {
   "cell_type": "code",
   "execution_count": null,
   "id": "private-retirement",
   "metadata": {
    "ExecuteTime": {
     "end_time": "2024-03-07T18:10:50.570690Z",
     "start_time": "2024-03-07T18:10:50.570690Z"
    }
   },
   "outputs": [],
   "source": [
    "df.drop(columns=[\"Car_Name\", \"Year\"], inplace=True)\n",
    "\n",
    "# 301 gözlemim olmasına rağmen car_name'de 98 tane unique araba/motor markası mevcut\n",
    "# Bu featura ordinal encoder uygulayarak numeric verilere dönüştürmek anlamlı bir hareket tarzı olmayacak\n",
    "# Çünkü DT modeli high cardinality categorical featureslara (çok fazla unique kategorik gözlemler içeren featurlar)\n",
    "# daha fazla önem yükleme eğilimindedir.\n",
    "# Bu da bu featurların feature importanceda daha ön plana çıkmasına sebep olur\n",
    "# Ayrıca  çoğu marka ve modelden 1-2 adet mevcut. Doğal olarak eğitime bir katkısı olmayacağından bu featura kaldırıyoruz\n",
    "# Araç üretim yılı olan Year ı da Age feature ına dönüştrdüğümüzden Year featurenıda car_name ile birlikte kaldırıyoruz"
   ]
  },
  {
   "cell_type": "code",
   "execution_count": null,
   "id": "endless-attendance",
   "metadata": {
    "ExecuteTime": {
     "end_time": "2024-03-07T18:10:50.574211Z",
     "start_time": "2024-03-07T18:10:50.574211Z"
    }
   },
   "outputs": [],
   "source": [
    "df.head()"
   ]
  },
  {
   "cell_type": "code",
   "execution_count": null,
   "id": "d80be5a5",
   "metadata": {
    "ExecuteTime": {
     "end_time": "2024-03-07T18:10:50.577222Z",
     "start_time": "2024-03-07T18:10:50.577222Z"
    }
   },
   "outputs": [],
   "source": [
    "plt.figure(figsize=(12, 6))\n",
    "sns.pairplot(df, palette=\"Dark2\")"
   ]
  },
  {
   "cell_type": "code",
   "execution_count": null,
   "id": "3749844a",
   "metadata": {
    "ExecuteTime": {
     "end_time": "2024-03-07T18:10:50.580378Z",
     "start_time": "2024-03-07T18:10:50.580378Z"
    }
   },
   "outputs": [],
   "source": [
    "import plotly.figure_factory as ff\n",
    "\n",
    "fig = ff.create_distplot([df['Selling_Price']], ['Selling Price'],\n",
    "                         show_hist=True,\n",
    "                         show_rug=True)\n",
    "\n",
    "fig.update_layout(\n",
    "    title_text='Distribution and Box Plot of Selling Prices',  # Başlık metni\n",
    "    title_font_size=20,  # Başlık font büyüklüğü\n",
    "    xaxis_title_text='Selling Price',  # X eksen başlığı\n",
    "    yaxis_title_text='Density',  # Y eksen başlığı\n",
    "    template='plotly_white',  # Arka planı beyaz yapıyoruz\n",
    "    width=1000,  # Grafiğin genişliği\n",
    "    height=500,  # Grafiğin yüksekliği\n",
    "    bargap=0.01,  # Barlar arası boşluk\n",
    ")\n",
    "\n",
    "fig.show()\n",
    "\n",
    "# tree based modeller outlierlara karşı çok robustdur(güçlüdür).\n",
    "# Ancak küçük regression datalarında bu durum geçerli değildir.\n",
    "# Küçük regression datalarında outlier dağerler düştüğü yapraklardaki ortalama fiyatları ciddi şekilde yükseltebiliğinden\n",
    "# veya azaltabildiğinden eğitim için yetersiz olan bu outlier gözlemleri düşürmek tree based modellerde önem arzediyor.\n",
    "#Ancak her zaman olduğu gibi hem outlierlar ile hem de outlierları düşürerek skorları karşılaştırıp farklarını görmeliyiz\n",
    "\n",
    "# show_rug parametresi, veri noktalarının her birinin konumunu x ekseninde bir çizgi ile gösterir.\n",
    "# Bu her bir gözlemin dağılımını ve yoğunluğunu daha ayrıntılı bir şekilde görmek için kullanışlıdır.\n",
    "\n",
    "# Rug plot, genellikle histogram veya kernel density estimate (KDE) çizimlerinin altında yer alır.\n",
    "# Her bir veri noktasını temsil eden küçük dikey çizgiler, veri setindeki değerlerin nerede yoğunlaştığını ve\n",
    "# potansiyel olarak outlier ların nerede bulunduğunu gösterir.\n",
    "# Bu özellik, veri setinin dağılımını anlamada faydalıdır çünkü rug plotlar veri noktalarının yığılma alanlarını ve\n",
    "# nadir bulunan bölgeleri net bir şekilde gösterir."
   ]
  },
  {
   "cell_type": "code",
   "execution_count": null,
   "id": "ae573594",
   "metadata": {
    "ExecuteTime": {
     "end_time": "2024-03-07T18:10:50.582892Z",
     "start_time": "2024-03-07T18:10:50.582892Z"
    }
   },
   "outputs": [],
   "source": [
    "import plotly.graph_objs as go\n",
    "\n",
    "box_plot = go.Box(y=df['Selling_Price'], name='Selling Price')\n",
    "\n",
    "fig = go.Figure(data=[box_plot])\n",
    "fig.update_layout(title='Selling Price Box Plot')\n",
    "fig.show()"
   ]
  },
  {
   "cell_type": "markdown",
   "id": "b65a07df",
   "metadata": {},
   "source": [
    "# Modelling"
   ]
  },
  {
   "cell_type": "markdown",
   "id": "swiss-respondent",
   "metadata": {},
   "source": [
    "## Train test split"
   ]
  },
  {
   "cell_type": "code",
   "execution_count": null,
   "id": "2e1fe523",
   "metadata": {
    "ExecuteTime": {
     "end_time": "2024-03-07T18:10:50.584905Z",
     "start_time": "2024-03-07T18:10:50.584905Z"
    }
   },
   "outputs": [],
   "source": [
    "X = df.drop(\"Selling_Price\", axis=1)\n",
    "y = df.Selling_Price"
   ]
  },
  {
   "cell_type": "code",
   "execution_count": null,
   "id": "16732211",
   "metadata": {
    "ExecuteTime": {
     "end_time": "2024-03-07T18:10:50.587905Z",
     "start_time": "2024-03-07T18:10:50.587905Z"
    }
   },
   "outputs": [],
   "source": [
    "from sklearn.model_selection import train_test_split"
   ]
  },
  {
   "cell_type": "code",
   "execution_count": null,
   "id": "a83c2161",
   "metadata": {
    "ExecuteTime": {
     "end_time": "2024-03-07T18:10:50.590906Z",
     "start_time": "2024-03-07T18:10:50.590906Z"
    }
   },
   "outputs": [],
   "source": [
    "X_train, X_test, y_train, y_test = train_test_split(X, y, test_size = 0.2, random_state = 101)"
   ]
  },
  {
   "cell_type": "code",
   "execution_count": null,
   "id": "c4850071",
   "metadata": {
    "ExecuteTime": {
     "end_time": "2024-03-07T18:10:50.594961Z",
     "start_time": "2024-03-07T18:10:50.594961Z"
    }
   },
   "outputs": [],
   "source": [
    "print(\"Train features shape : \", X_train.shape)\n",
    "print(\"Train target shape   : \", y_train.shape)\n",
    "print(\"Test features shape  : \", X_test.shape)\n",
    "print(\"Test target shape    : \", y_test.shape)"
   ]
  },
  {
   "cell_type": "markdown",
   "id": "982e1432",
   "metadata": {},
   "source": [
    "## Modeling for Decision Tree"
   ]
  },
  {
   "cell_type": "code",
   "execution_count": null,
   "id": "e4861518",
   "metadata": {
    "ExecuteTime": {
     "end_time": "2024-03-07T18:10:50.597960Z",
     "start_time": "2024-03-07T18:10:50.597960Z"
    }
   },
   "outputs": [],
   "source": [
    "from sklearn.tree import DecisionTreeRegressor"
   ]
  },
  {
   "cell_type": "code",
   "execution_count": null,
   "id": "0f38d4fa",
   "metadata": {
    "ExecuteTime": {
     "end_time": "2024-03-07T18:10:50.600964Z",
     "start_time": "2024-03-07T18:10:50.600964Z"
    }
   },
   "outputs": [],
   "source": [
    "DT_model = DecisionTreeRegressor(random_state=101)"
   ]
  },
  {
   "cell_type": "code",
   "execution_count": null,
   "id": "0be5d751",
   "metadata": {
    "ExecuteTime": {
     "end_time": "2024-03-07T18:10:50.605122Z",
     "start_time": "2024-03-07T18:10:50.605122Z"
    }
   },
   "outputs": [],
   "source": [
    "cat = X_train.select_dtypes(\"object\").columns\n",
    "cat"
   ]
  },
  {
   "cell_type": "code",
   "execution_count": null,
   "id": "c1c55523",
   "metadata": {
    "ExecuteTime": {
     "end_time": "2024-03-07T18:10:50.608527Z",
     "start_time": "2024-03-07T18:10:50.607526Z"
    }
   },
   "outputs": [],
   "source": [
    "from sklearn.compose import make_column_transformer\n",
    "from sklearn.preprocessing import OrdinalEncoder"
   ]
  },
  {
   "cell_type": "code",
   "execution_count": null,
   "id": "ceaf37cf",
   "metadata": {
    "ExecuteTime": {
     "end_time": "2024-03-07T18:10:50.611528Z",
     "start_time": "2024-03-07T18:10:50.611528Z"
    }
   },
   "outputs": [],
   "source": [
    "ord_enc = OrdinalEncoder(handle_unknown=\"use_encoded_value\", unknown_value= -1)"
   ]
  },
  {
   "cell_type": "code",
   "execution_count": null,
   "id": "83a71093",
   "metadata": {
    "ExecuteTime": {
     "end_time": "2024-03-07T18:10:50.614052Z",
     "start_time": "2024-03-07T18:10:50.614052Z"
    }
   },
   "outputs": [],
   "source": [
    "column_trans = make_column_transformer((ord_enc, cat), remainder=\"passthrough\")"
   ]
  },
  {
   "cell_type": "code",
   "execution_count": null,
   "id": "47bdb275",
   "metadata": {
    "ExecuteTime": {
     "end_time": "2024-03-07T18:10:50.617053Z",
     "start_time": "2024-03-07T18:10:50.617053Z"
    }
   },
   "outputs": [],
   "source": [
    "from sklearn.pipeline import Pipeline"
   ]
  },
  {
   "cell_type": "code",
   "execution_count": null,
   "id": "150c3d1b",
   "metadata": {
    "ExecuteTime": {
     "end_time": "2024-03-07T18:10:50.620053Z",
     "start_time": "2024-03-07T18:10:50.620053Z"
    }
   },
   "outputs": [],
   "source": [
    "operations = [(\"OrdinalEncoder\", column_trans),\n",
    "              (\"DT_model\", DecisionTreeRegressor(random_state=101))]"
   ]
  },
  {
   "cell_type": "code",
   "execution_count": null,
   "id": "bbb4ae95",
   "metadata": {
    "ExecuteTime": {
     "end_time": "2024-03-07T18:10:50.623011Z",
     "start_time": "2024-03-07T18:10:50.623011Z"
    }
   },
   "outputs": [],
   "source": [
    "pipe_model = Pipeline(steps=operations)"
   ]
  },
  {
   "cell_type": "code",
   "execution_count": null,
   "id": "b4e838fc",
   "metadata": {
    "ExecuteTime": {
     "end_time": "2024-03-07T18:10:50.628039Z",
     "start_time": "2024-03-07T18:10:50.628039Z"
    }
   },
   "outputs": [],
   "source": [
    "pipe_model.fit(X_train, y_train)"
   ]
  },
  {
   "cell_type": "code",
   "execution_count": null,
   "id": "5dcb2282",
   "metadata": {
    "ExecuteTime": {
     "end_time": "2024-03-07T18:10:50.632689Z",
     "start_time": "2024-03-07T18:10:50.632689Z"
    }
   },
   "outputs": [],
   "source": [
    "def train_val(model, X_train, y_train, X_test, y_test):\n",
    "\n",
    "    y_pred = model.predict(X_test)\n",
    "    y_train_pred = model.predict(X_train)\n",
    "\n",
    "    scores = {\n",
    "        \"train\": {\n",
    "            \"R2\": r2_score(y_train, y_train_pred),\n",
    "            \"mae\": mean_absolute_error(y_train, y_train_pred),\n",
    "            \"mse\": mean_squared_error(y_train, y_train_pred),\n",
    "            \"rmse\": np.sqrt(mean_squared_error(y_train, y_train_pred))\n",
    "        },\n",
    "        \"test\": {\n",
    "            \"R2\": r2_score(y_test, y_pred),\n",
    "            \"mae\": mean_absolute_error(y_test, y_pred),\n",
    "            \"mse\": mean_squared_error(y_test, y_pred),\n",
    "            \"rmse\": np.sqrt(mean_squared_error(y_test, y_pred))\n",
    "        }\n",
    "    }\n",
    "\n",
    "    return pd.DataFrame(scores)"
   ]
  },
  {
   "cell_type": "code",
   "execution_count": null,
   "id": "2f9e7926",
   "metadata": {
    "ExecuteTime": {
     "end_time": "2024-03-07T18:10:50.636465Z",
     "start_time": "2024-03-07T18:10:50.636465Z"
    }
   },
   "outputs": [],
   "source": [
    "from sklearn.metrics import r2_score, mean_absolute_error, mean_squared_error"
   ]
  },
  {
   "cell_type": "code",
   "execution_count": null,
   "id": "f98dc160",
   "metadata": {
    "ExecuteTime": {
     "end_time": "2024-03-07T18:10:50.640467Z",
     "start_time": "2024-03-07T18:10:50.640467Z"
    }
   },
   "outputs": [],
   "source": [
    "train_val(pipe_model, X_train, y_train, X_test, y_test)"
   ]
  },
  {
   "cell_type": "code",
   "execution_count": null,
   "id": "b9b7fc4b",
   "metadata": {
    "ExecuteTime": {
     "end_time": "2024-03-07T18:10:50.645010Z",
     "start_time": "2024-03-07T18:10:50.645010Z"
    }
   },
   "outputs": [],
   "source": [
    "from sklearn.model_selection import cross_validate, cross_val_score\n",
    "\n",
    "operations = [(\"OrdinalEncoder\", column_trans),\n",
    "              (\"DT_model\", DecisionTreeRegressor(random_state=101))]\n",
    "model = Pipeline(steps=operations)\n",
    "\n",
    "scores = cross_validate(model,\n",
    "                        X_train,\n",
    "                        y_train,\n",
    "                        scoring=[\n",
    "                            'r2', 'neg_mean_absolute_error',\n",
    "                            'neg_mean_squared_error',\n",
    "                            'neg_root_mean_squared_error'\n",
    "                        ],\n",
    "                        cv=10,\n",
    "                        return_train_score=True)\n",
    "\n",
    "df_scores = pd.DataFrame(scores)\n",
    "df_scores.mean()[2:]\n",
    "\n",
    "# overfiting olduğunu teyit ettik"
   ]
  },
  {
   "cell_type": "markdown",
   "id": "d3f53e65",
   "metadata": {},
   "source": [
    "## Modelling for Random Forest"
   ]
  },
  {
   "cell_type": "markdown",
   "id": "9182597f-f6fa-4462-814c-54bb7c003004",
   "metadata": {},
   "source": [
    "**Tree-Based Modellerde Encoder Kullanımı**\n",
    "\n",
    "Tree-based modellerde, özellikle karar ağaçları ve Random Forest gibi algoritmalar, kategorik verileri işleme şekli nedeniyle encoder kullanımını gerektirebilir.\n",
    "\n",
    "**Encoder Kullanımının Avantajları**\n",
    "- **Feature Sayısının Kontrolü**: Encoder kullanmak, özellikle çok sayıda kategorik değişkeni olan veri setlerinde, modelin karmaşıklığını ve işlem yükünü azaltır. Dummies uygulandığında feature sayısının önemli ölçüde artması, modelin hem eğitim süresini hem de karmaşıklığını artırabilir.\n",
    "- **Tree-Based Modeller ve Encoder**: Karar ağaçları ve Random Forest gibi modeller, encoder ile dönüştürülmüş kategorik verileri etkili bir şekilde işleyebilir. Bu modeller, kategorik değişkenlerin sayısallaştırılmasını kolaylaştırır ve dummies kullanımına göre daha az özellik ile çalışabilir.\n",
    "\n",
    "**Uygulama Önerileri**\n",
    "- **Encoder Kullanımı**: Kategorik değişkenler için encoder (Label Encoder, Ordinal Encoder vb.) kullanarak verileri modellemeye hazırlayın.\n",
    "- **Model Performansını Değerlendirme**: Encoder kullanımı sonrası modelin performansını değerlendirin ve dummies kullanıldığında elde edilen sonuçlarla karşılaştırın."
   ]
  },
  {
   "cell_type": "code",
   "execution_count": null,
   "id": "e675994a",
   "metadata": {
    "ExecuteTime": {
     "end_time": "2024-03-07T18:10:50.648079Z",
     "start_time": "2024-03-07T18:10:50.648079Z"
    }
   },
   "outputs": [],
   "source": [
    "from sklearn.ensemble import RandomForestRegressor"
   ]
  },
  {
   "cell_type": "code",
   "execution_count": null,
   "id": "97638b4d",
   "metadata": {
    "ExecuteTime": {
     "end_time": "2024-03-07T18:10:50.652085Z",
     "start_time": "2024-03-07T18:10:50.652085Z"
    }
   },
   "outputs": [],
   "source": [
    "operations = [(\"OrdinalEncoder\", column_trans),\n",
    "              (\"RF_model\", RandomForestRegressor(random_state=101))]\n",
    "\n",
    "pipe_model = Pipeline(steps=operations)\n",
    "\n",
    "pipe_model.fit(X_train, y_train)"
   ]
  },
  {
   "cell_type": "code",
   "execution_count": null,
   "id": "c347d9e6",
   "metadata": {
    "ExecuteTime": {
     "end_time": "2024-03-07T18:10:50.654186Z",
     "start_time": "2024-03-07T18:10:50.654186Z"
    }
   },
   "outputs": [],
   "source": [
    "train_val(pipe_model, X_train, y_train, X_test, y_test)"
   ]
  },
  {
   "cell_type": "code",
   "execution_count": null,
   "id": "1f8058df",
   "metadata": {
    "ExecuteTime": {
     "end_time": "2024-03-07T18:10:50.657260Z",
     "start_time": "2024-03-07T18:10:50.657260Z"
    }
   },
   "outputs": [],
   "source": [
    "from sklearn.model_selection import cross_validate, cross_val_score\n",
    "\n",
    "operations = [(\"OrdinalEncoder\", column_trans),\n",
    "              (\"RF_model\", RandomForestRegressor(random_state=101))]\n",
    "model = Pipeline(steps=operations)\n",
    "\n",
    "scores = cross_validate(model,\n",
    "                        X_train,\n",
    "                        y_train,\n",
    "                        scoring=[\n",
    "                            'r2', 'neg_mean_absolute_error',\n",
    "                            'neg_mean_squared_error',\n",
    "                            'neg_root_mean_squared_error'\n",
    "                        ],\n",
    "                        cv=10,\n",
    "                        return_train_score=True)\n",
    "\n",
    "df_scores = pd.DataFrame(scores)\n",
    "df_scores.mean()[2:]\n",
    "\n",
    "# overfiting olduğunu teyit ettik"
   ]
  },
  {
   "cell_type": "code",
   "execution_count": null,
   "id": "0c5adf25",
   "metadata": {
    "ExecuteTime": {
     "end_time": "2024-03-07T18:10:50.660265Z",
     "start_time": "2024-03-07T18:10:50.660265Z"
    }
   },
   "outputs": [],
   "source": [
    "y.mean()"
   ]
  },
  {
   "cell_type": "code",
   "execution_count": null,
   "id": "6279feae",
   "metadata": {
    "ExecuteTime": {
     "end_time": "2024-03-07T18:10:50.663793Z",
     "start_time": "2024-03-07T18:10:50.663793Z"
    }
   },
   "outputs": [],
   "source": [
    "1.457 / y.mean()  # test setinde yaptığı hata %31"
   ]
  },
  {
   "cell_type": "code",
   "execution_count": null,
   "id": "2b47994c",
   "metadata": {
    "ExecuteTime": {
     "end_time": "2024-03-07T18:10:50.666793Z",
     "start_time": "2024-03-07T18:10:50.666793Z"
    }
   },
   "outputs": [],
   "source": [
    "0.608/ y.mean()  # train setinde yaptığı hata %13"
   ]
  },
  {
   "cell_type": "markdown",
   "id": "965885ec",
   "metadata": {},
   "source": [
    "**Regression ve Classification Analizlerinde \"Pure\" Modeller**\n",
    "\n",
    "Makine öğrenmesi ve istatistikte, bir modelin \"pure\" (saf) olması, modelin verileri mükemmel bir şekilde tahmin ettiği veya sınıflandırdığı anlamına gelir. Ancak, bu durumun gerçek dünya verileriyle çalışırken nadiren mümkün olduğunu anlamak önemlidir.\n",
    "\n",
    "**Regression Analizlerinde \"Pure\" Modeller**\n",
    "- **Zorluk**: Regression analizlerinde bir modelin \"pure\" olması, yani train setindeki tüm verileri mükemmel bir şekilde tahmin etmesi, genellikle çok zordur.\n",
    "- **Overfitting Riski**: Train setinde çok yüksek, ancak test setinde düşük skorlar alınıyorsa, bu durum modelin verilere overfitting yaptığının bir işareti olabilir. Yani model, eğitim verilerine aşırı uyum sağlamış ancak yeni verilere iyi genelleştirme yapamıyor olabilir. Buna karşılık, train ve test seti skorlarının birbirine yakın olması, modelin verilere iyi genelleştirdiğini gösterebilir.\n",
    "\n",
    "**Classification Analizlerinde \"Pure\" Modeller**\n",
    "- **Mümkünlük**: Classification analizlerinde bazen \"pure\" skorlar elde edilebilir. Bu, modelin veri setindeki sınıfları mükemmel bir şekilde ayırdığı anlamına gelir.\n",
    "- **Dikkat**: Ancak, bu durum her zaman ideal olmayabilir. Çünkü mükemmel sınıflandırma, bazen modelin eğitim verilerine aşırı uyum sağlaması (overfitting) nedeniyle olabilir.\n",
    "\n",
    "**Cross Validation (Çapraz Doğrulama)**\n",
    "- **Önemi**: Modelin performansını daha iyi değerlendirmek için cross validation kullanmak önemlidir. Cross validation, modelin farklı veri alt kümeleri üzerindeki performansını test ederek daha güvenilir sonuçlar elde edilmesini sağlar.\n",
    "- **Uygulama**: Cross validation skorları, modelin tek seferlik skorlarıyla uyumlu olduğunda, modelin genelleştirme kabiliyetinin daha güçlü olduğunu gösterir.\n",
    "\n",
    "Sonuç olarak, hem regression hem de classification modellerinde, modelin \"pure\" olması her zaman mümkün veya ideal olmayabilir. Modelin genelleştirme yeteneğini değerlendirmek için cross validation gibi yöntemler kullanılmalıdır."
   ]
  },
  {
   "cell_type": "markdown",
   "id": "64f04f1b",
   "metadata": {},
   "source": [
    "## Outlier handling to improve scores¶"
   ]
  },
  {
   "cell_type": "code",
   "execution_count": null,
   "id": "09e66c85",
   "metadata": {},
   "outputs": [],
   "source": []
  },
  {
   "cell_type": "code",
   "execution_count": null,
   "id": "1a939947",
   "metadata": {},
   "outputs": [],
   "source": []
  },
  {
   "cell_type": "markdown",
   "id": "54a6925e",
   "metadata": {},
   "source": [
    "## Visualizing Trees"
   ]
  },
  {
   "cell_type": "code",
   "execution_count": null,
   "id": "680804dc",
   "metadata": {},
   "outputs": [],
   "source": []
  },
  {
   "cell_type": "code",
   "execution_count": null,
   "id": "d3b0cba3",
   "metadata": {},
   "outputs": [],
   "source": []
  },
  {
   "cell_type": "markdown",
   "id": "8d0c97a5",
   "metadata": {},
   "source": [
    "## Grid Search"
   ]
  },
  {
   "cell_type": "code",
   "execution_count": null,
   "id": "0e105e5b",
   "metadata": {},
   "outputs": [],
   "source": []
  },
  {
   "cell_type": "code",
   "execution_count": null,
   "id": "76cfbb8d",
   "metadata": {},
   "outputs": [],
   "source": []
  },
  {
   "cell_type": "markdown",
   "id": "d59128a0",
   "metadata": {},
   "source": [
    "**criterion**\n",
    "\n",
    "1. **squared_error**:\n",
    "   - Bu, bölünme kalitesini değerlendirmek için kullanılan ortalama karesel hata (MSE) kriteridir.\n",
    "   - Her düğümde, ortalama karesel hatayı minimize etmeye çalışarak en iyi bölünmeyi bulur.\n",
    "   - Bu, genellikle varsayılan kriterdir ve ağacın hedef değişken üzerindeki varyansı azaltmasını sağlar.\n",
    "\n",
    "2. **friedman_mse**:\n",
    "   - Bu kriter, ünlü istatistikçi Jerome Friedman tarafından geliştirilen ve geliştirilmiş bir karesel hata ölçüsüdür.\n",
    "   - 'friedman_mse' genellikle gradyan artırma ağaçlarıyla (gradient boosting trees) kullanılır ve ağacın bölünmelerini iyileştirmek için ek bir düzeltme terimi içerir.\n",
    "   - Bu kriter, özellikle gradyan artırma modellerindeki performansı artırmak için kullanılır.\n",
    "\n",
    "3. **absolute_error**:\n",
    "   - Bu kriter, bölünme kalitesini belirlemek için ortalama mutlak hatayı (MAE) kullanır.\n",
    "   - Aykırı değerlerin etkisini azaltmak için tercih edilen bir kriterdir çünkü karesel değil, mutlak farkları hesaba katar.\n",
    "   - Hesaplama açısından daha maliyetli olabilir, çünkü mutlak değer fonksiyonunun türevi her noktada tanımlı değildir.\n",
    "\n",
    "4. **poisson**:\n",
    "   - Bu kriter, regresyon hedeflerinin Poisson dağılımı gösterdiği durumlar için uygundur. Örneğin, sayım verisi veya olay oranları gibi.\n",
    "   - Poisson kaybı, bir hedef değişkenin gerçek sayımlar üzerindeki tahminlerinin kalitesini değerlendirmek için kullanılır.\n",
    "   - Poisson regresyonu, özellikle hedef değişken bir sayma sayısı olduğunda (örneğin, bir zaman aralığında gerçekleşen olayların sayısı gibi) ve hata terimlerinin varyansı ortalama değerlerle orantılı olduğunda kullanılır."
   ]
  },
  {
   "cell_type": "markdown",
   "id": "043d8ae7",
   "metadata": {},
   "source": [
    "**Random Forest Regression'da 'max_features' Parametresinin Önemi ve Root Node Seçimi**\n",
    "\n",
    "Random Forest Regression modellerinde 'max_features' parametresinin kullanımı ve bu parametrenin ağaçlardaki root node seçimi üzerindeki etkisini incelemek önemlidir.\n",
    "\n",
    "**'max_features' Parametresi ve Etkisi**\n",
    "- **Default Değer**: Random Forest Regression'da 'max_features' parametresinin default değeri genellikle 'auto' (eskiden) ya da 1.0 (yeni) olarak belirlenir. Bu, modelin her ağacı oluştururken tüm özellikleri (features) kullanacağı anlamına gelir.\n",
    "- **Root Node Seçimi**: Her ağaçta tüm özellikler kullanıldığında, genellikle modelin her ağacında aynı root node'un seçilme ihtimali artar. Bu durum, modelin çeşitliliğini azaltabilir ve overfitting riskini artırabilir.\n",
    "\n",
    "**'max_features' Parametresinin Özelleştirilmesi**\n",
    "- **GridSearch Önerisi**: GridSearch yaparken 'max_features' parametresini mutlaka dahil etmek ve bu parametreyi default değerinde bırakmamak önemlidir.\n",
    "- **Optimal Değer**: Araştırmalar, 'max_features' değerini feature sayısının 1/3'ü olarak ayarlamanın, modelin performansını iyileştirebileceğini göstermektedir. Bu yaklaşım, modelin her ağacında farklı özelliklerin kullanılmasını sağlayarak daha fazla çeşitlilik ve daha iyi genelleştirme kabiliyeti sunabilir.\n",
    "\n",
    "**Uygulama ve Değerlendirme**\n",
    "Random Forest Regression modellerinde, 'max_features' parametresini özelleştirmek, modelin genelleştirme kabiliyetini ve doğruluğunu artırabilir. Modelin her ağacında farklı özelliklerin seçilmesi, daha dengeli ve güvenilir tahminler yapılmasını sağlar."
   ]
  },
  {
   "cell_type": "code",
   "execution_count": null,
   "id": "17e38cc2",
   "metadata": {},
   "outputs": [],
   "source": []
  },
  {
   "cell_type": "code",
   "execution_count": null,
   "id": "3b41ea56",
   "metadata": {},
   "outputs": [],
   "source": []
  },
  {
   "cell_type": "markdown",
   "id": "4d940a21",
   "metadata": {},
   "source": [
    "## Features Importance"
   ]
  },
  {
   "cell_type": "markdown",
   "id": "36f2b976",
   "metadata": {},
   "source": [
    "Feature Importances, makine öğrenimi modellerindeki özelliklerin (features) modelin tahminlerine katkısını değerlendirir. Bu, özellikle karar ağaçlarına dayalı modellerde, örneğin Random Forest ve XGBoost gibi algoritmalar için kritik öneme sahiptir.\n",
    "\n",
    "**Features Importance Önemi**\n",
    "1. **Model Yorumlanabilirliği**: Modelin hangi özelliklerin tahminlere en çok etki ettiğini anlamak, modelin nasıl çalıştığını ve kararlarının arkasındaki mantığı açıklar. Bu, modelin güvenilirliğini ve şeffaflığını artırır.\n",
    "2. **Özellik Seçimi**: En önemli özellikleri belirleyerek, modelin karmaşıklığını azaltabilir ve eğitim süresini kısaltabiliriz. Ayrıca, bu yaklaşım modelin overfitting riskini de azaltabilir.\n",
    "3. **Model Performansını İyileştirme**: Özellik önemi, hangi özelliklerin model performansını artırmak için odaklanılması gerektiğini gösterir. Bu, daha doğru tahminler yapılmasına yardımcı olabilir.\n",
    "4. **İş Anlayışı ve Karar Verme**: Özelliklerin önemi, veri setindeki iş süreçleri ve dinamikleri hakkında önemli bilgiler sunar, bu da iş kararları ve stratejilerinin geliştirilmesinde kullanılabilir.\n",
    "5. **Veri Kalitesi ve Temizleme**: Düşük veya beklenmedik özellik önemi, veri kalitesi sorunlarını ortaya çıkarabilir ve veri toplama veya işleme süreçlerinin iyileştirilmesine yönlendirebilir.\n",
    "\n",
    "**Uygulama Önerileri**\n",
    "- **Random Forest ve XGBoost**: Bagging modellerde Random Forest, boosting modellerde XGBoost'un özellik önemi özelliklerini kullanarak, modelin ve verilerin daha iyi anlaşılmasını sağlayabiliriz."
   ]
  },
  {
   "cell_type": "code",
   "execution_count": null,
   "id": "6b5140b4",
   "metadata": {},
   "outputs": [],
   "source": []
  },
  {
   "cell_type": "code",
   "execution_count": null,
   "id": "2e42558e",
   "metadata": {},
   "outputs": [],
   "source": []
  },
  {
   "cell_type": "markdown",
   "id": "e35da680",
   "metadata": {},
   "source": [
    "# Feature Selection"
   ]
  },
  {
   "cell_type": "code",
   "execution_count": null,
   "id": "46e0cc4e",
   "metadata": {},
   "outputs": [],
   "source": []
  },
  {
   "cell_type": "code",
   "execution_count": null,
   "id": "193bff6f",
   "metadata": {},
   "outputs": [],
   "source": []
  },
  {
   "cell_type": "markdown",
   "id": "859cb66f",
   "metadata": {},
   "source": [
    "# Final Model & Prediction"
   ]
  },
  {
   "cell_type": "code",
   "execution_count": null,
   "id": "3483be8f",
   "metadata": {},
   "outputs": [],
   "source": []
  },
  {
   "cell_type": "code",
   "execution_count": null,
   "id": "a96ec979",
   "metadata": {},
   "outputs": [],
   "source": []
  },
  {
   "cell_type": "markdown",
   "id": "7c6f614c",
   "metadata": {},
   "source": [
    "# <p style=\"background-color:green;font-family:newtimeroman;font-size:200%;color:white;text-align:center;border-radius:20px 20px;\"><b>Random Forest - Regression - THE END</b></p>\n",
    "![](https://www.techproeducation.com/logo/headerlogo.svg)\n",
    "\n",
    "<b>Yeniliklerden ilk siz haberdar olmak istiyorsanız lütfen bizi takip etmeyi unutmayın </b>[YouTube](https://www.youtube.com/c/techproeducation) | [Instagram](https://www.instagram.com/techproeducation) | [Facebook](https://www.facebook.com/techproeducation) | [Telegram](https://t.me/joinchat/HH2qRvA-ulh4OWbb) | [WhatsApp](https://api.whatsapp.com/send/?phone=%2B15853042959&text&type=phone_number&app_absent=0) | [LinkedIn](https://www.linkedin.com/company/techproeducation/mycompany/) |"
   ]
  }
 ],
 "metadata": {
  "hide_input": false,
  "kernelspec": {
   "display_name": "Python 3 (ipykernel)",
   "language": "python",
   "name": "python3"
  },
  "language_info": {
   "codemirror_mode": {
    "name": "ipython",
    "version": 3
   },
   "file_extension": ".py",
   "mimetype": "text/x-python",
   "name": "python",
   "nbconvert_exporter": "python",
   "pygments_lexer": "ipython3",
   "version": "3.11.7"
  },
  "toc": {
   "base_numbering": 1,
   "nav_menu": {},
   "number_sections": true,
   "sideBar": true,
   "skip_h1_title": false,
   "title_cell": "Table of Contents",
   "title_sidebar": "Contents",
   "toc_cell": false,
   "toc_position": {
    "height": "calc(100% - 180px)",
    "left": "10px",
    "top": "150px",
    "width": "349.078px"
   },
   "toc_section_display": true,
   "toc_window_display": true
  }
 },
 "nbformat": 4,
 "nbformat_minor": 5
}
